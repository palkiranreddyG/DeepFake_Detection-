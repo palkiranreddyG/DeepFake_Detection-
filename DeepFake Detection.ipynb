{
  "nbformat": 4,
  "nbformat_minor": 0,
  "metadata": {
    "colab": {
      "provenance": []
    },
    "kernelspec": {
      "name": "python3",
      "display_name": "Python 3"
    },
    "language_info": {
      "name": "python"
    }
  },
  "cells": [
    {
      "cell_type": "code",
      "execution_count": null,
      "metadata": {
        "colab": {
          "base_uri": "https://localhost:8080/"
        },
        "id": "NYRvz06b20Bp",
        "outputId": "8915b288-6aad-42e6-d2c6-ace53407d8c6"
      },
      "outputs": [
        {
          "output_type": "stream",
          "name": "stdout",
          "text": [
            "Drive already mounted at /content/drive; to attempt to forcibly remount, call drive.mount(\"/content/drive\", force_remount=True).\n"
          ]
        }
      ],
      "source": [
        "from google.colab import drive\n",
        "drive.mount('/content/drive')\n"
      ]
    },
    {
      "cell_type": "code",
      "source": [
        "\n",
        "# Define dataset path\n",
        "dataset_zip = \"/content/drive/MyDrive/archive.zip\"\n",
        "extract_path = \"/content/dataset\"\n",
        "\n",
        "# Extract dataset\n",
        "with zipfile.ZipFile(dataset_zip, 'r') as zip_ref:\n",
        "    zip_ref.extractall(extract_path)\n",
        "\n",
        "print(\"Dataset extracted successfully!\")\n"
      ],
      "metadata": {
        "colab": {
          "base_uri": "https://localhost:8080/"
        },
        "id": "TO_lHY6YIaFE",
        "outputId": "96892970-e870-43af-ba77-7d8bb177702b"
      },
      "execution_count": null,
      "outputs": [
        {
          "output_type": "stream",
          "name": "stdout",
          "text": [
            "Dataset extracted successfully!\n"
          ]
        }
      ]
    },
    {
      "cell_type": "code",
      "source": [
        "import os\n",
        "import cv2\n",
        "import numpy as np\n",
        "from tensorflow.keras.utils import to_categorical\n",
        "from sklearn.model_selection import train_test_split\n",
        "import zipfile\n",
        "\n",
        "# Mount Google Drive\n",
        "from google.colab import drive\n",
        "drive.mount('/content/drive')\n",
        "\n",
        "# Define dataset path\n",
        "zip_path = \"/content/drive/MyDrive/archive.zip\"\n",
        "extract_path = \"/content/dataset\"  # Extracted dataset path\n",
        "\n",
        "# Extract ZIP file (Only if not already extracted)\n",
        "if not os.path.exists(extract_path):\n",
        "    with zipfile.ZipFile(zip_path, 'r') as zip_ref:\n",
        "        zip_ref.extractall(extract_path)\n",
        "\n",
        "print(\"Dataset extracted successfully!\")\n",
        "\n",
        "# Define Real and Fake Video Paths (after extraction)\n",
        "real_videos = os.path.join(extract_path, \"FF++\", \"real\")\n",
        "fake_videos = os.path.join(extract_path, \"FF++\", \"fake\")\n",
        "\n",
        "# Check if directories exist\n",
        "if not os.path.isdir(real_videos) or not os.path.isdir(fake_videos):\n",
        "    raise Exception(\"Error: Check if 'real' and 'fake' folders exist in the extracted dataset.\")\n",
        "\n",
        "# Define constants\n",
        "IMG_SIZE = 224  # Input image size\n",
        "FRAME_COUNT = 5  # Number of frames to extract per video\n",
        "\n",
        "# Function to extract frames from videos\n",
        "def extract_frames(video_path, frame_count=FRAME_COUNT):\n",
        "    cap = cv2.VideoCapture(video_path)\n",
        "    frames = []\n",
        "    total_frames = int(cap.get(cv2.CAP_PROP_FRAME_COUNT))\n",
        "\n",
        "    for i in range(frame_count):\n",
        "        frame_id = int((i / frame_count) * total_frames)\n",
        "        cap.set(cv2.CAP_PROP_POS_FRAMES, frame_id)\n",
        "        ret, frame = cap.read()\n",
        "        if ret:\n",
        "            frame = cv2.resize(frame, (IMG_SIZE, IMG_SIZE))\n",
        "            frame = cv2.cvtColor(frame, cv2.COLOR_BGR2RGB)\n",
        "            frames.append(frame)\n",
        "\n",
        "    cap.release()\n",
        "    return np.array(frames)\n",
        "\n",
        "X, y = [], []\n",
        "\n",
        "# Process Real Videos\n",
        "for video in os.listdir(real_videos):\n",
        "    video_path = os.path.join(real_videos, video)\n",
        "    if os.path.isfile(video_path):  # Check if it's a valid file\n",
        "        frames = extract_frames(video_path)\n",
        "        if len(frames) == FRAME_COUNT:\n",
        "            X.extend(frames)  # Store frames\n",
        "            y.extend([0] * FRAME_COUNT)  # Label real videos as 0\n",
        "\n",
        "# Process Fake Videos\n",
        "for video in os.listdir(fake_videos):\n",
        "    video_path = os.path.join(fake_videos, video)\n",
        "    if os.path.isfile(video_path):  # Check if it's a valid file\n",
        "        frames = extract_frames(video_path)\n",
        "        if len(frames) == FRAME_COUNT:\n",
        "            X.extend(frames)\n",
        "            y.extend([1] * FRAME_COUNT)  # Label fake videos as 1\n",
        "\n",
        "# Convert to NumPy arrays\n",
        "X = np.array(X) / 255.0  # Normalize images\n",
        "y = to_categorical(y, 2)  # Convert labels to one-hot encoding\n",
        "\n",
        "# Split dataset\n",
        "X_train, X_test, y_train, y_test = train_test_split(X, y, test_size=0.2, random_state=42)\n",
        "\n",
        "print(f\"Dataset Loaded: {X_train.shape}, {y_train.shape}\")\n"
      ],
      "metadata": {
        "colab": {
          "base_uri": "https://localhost:8080/"
        },
        "id": "rnd31MacI2nU",
        "outputId": "7f566d72-d8fd-4f11-f473-d7ff76146a5f"
      },
      "execution_count": null,
      "outputs": [
        {
          "output_type": "stream",
          "name": "stdout",
          "text": [
            "Drive already mounted at /content/drive; to attempt to forcibly remount, call drive.mount(\"/content/drive\", force_remount=True).\n",
            "Dataset extracted successfully!\n",
            "Dataset Loaded: (1600, 224, 224, 3), (1600, 2)\n"
          ]
        }
      ]
    },
    {
      "cell_type": "code",
      "source": [
        "import tensorflow as tf\n",
        "from tensorflow.keras.models import Sequential\n",
        "from tensorflow.keras.layers import Conv2D, MaxPooling2D, Flatten, Dense, Dropout\n",
        "from tensorflow.keras.optimizers import Adam\n",
        "import matplotlib.pyplot as plt\n",
        "\n",
        "# Define CNN model\n",
        "model = Sequential([\n",
        "    Conv2D(32, (3,3), activation='relu', input_shape=(224, 224, 3)),\n",
        "    MaxPooling2D(2,2),\n",
        "\n",
        "    Conv2D(64, (3,3), activation='relu'),\n",
        "    MaxPooling2D(2,2),\n",
        "\n",
        "    Conv2D(128, (3,3), activation='relu'),\n",
        "    MaxPooling2D(2,2),\n",
        "\n",
        "    Flatten(),\n",
        "    Dense(128, activation='relu'),\n",
        "    Dropout(0.5),  # Prevent overfitting\n",
        "    Dense(2, activation='softmax')  # 2 classes: Real(0) & Fake(1)\n",
        "])\n",
        "\n",
        "# Compile the model\n",
        "model.compile(optimizer=Adam(learning_rate=0.0001), loss='categorical_crossentropy', metrics=['accuracy'])\n",
        "\n",
        "# Train the model\n",
        "history = model.fit(X_train, y_train, epochs=10, validation_data=(X_test, y_test), batch_size=32)\n",
        "\n",
        "# Evaluate model performance\n",
        "loss, acc = model.evaluate(X_test, y_test)\n",
        "print(f\"Test Accuracy: {acc*100:.2f}%\")\n",
        "\n",
        "# Plot accuracy and loss\n",
        "plt.figure(figsize=(12,5))\n",
        "plt.subplot(1,2,1)\n",
        "plt.plot(history.history['accuracy'], label='Train Accuracy')\n",
        "plt.plot(history.history['val_accuracy'], label='Val Accuracy')\n",
        "plt.legend()\n",
        "plt.title('Accuracy Curve')\n",
        "\n",
        "plt.subplot(1,2,2)\n",
        "plt.plot(history.history['loss'], label='Train Loss')\n",
        "plt.plot(history.history['val_loss'], label='Val Loss')\n",
        "plt.legend()\n",
        "plt.title('Loss Curve')\n",
        "\n",
        "plt.show()\n"
      ],
      "metadata": {
        "colab": {
          "base_uri": "https://localhost:8080/",
          "height": 904
        },
        "id": "vDfpzPGhOkV8",
        "outputId": "e51aa4e7-491d-42b0-b50d-1b4662b3b102"
      },
      "execution_count": null,
      "outputs": [
        {
          "metadata": {
            "tags": null
          },
          "name": "stderr",
          "output_type": "stream",
          "text": [
            "/usr/local/lib/python3.11/dist-packages/keras/src/layers/convolutional/base_conv.py:107: UserWarning: Do not pass an `input_shape`/`input_dim` argument to a layer. When using Sequential models, prefer using an `Input(shape)` object as the first layer in the model instead.\n",
            "  super().__init__(activity_regularizer=activity_regularizer, **kwargs)\n"
          ]
        },
        {
          "output_type": "stream",
          "name": "stdout",
          "text": [
            "Epoch 1/10\n",
            "\u001b[1m50/50\u001b[0m \u001b[32m━━━━━━━━━━━━━━━━━━━━\u001b[0m\u001b[37m\u001b[0m \u001b[1m193s\u001b[0m 4s/step - accuracy: 0.5130 - loss: 0.7131 - val_accuracy: 0.5400 - val_loss: 0.6881\n",
            "Epoch 2/10\n",
            "\u001b[1m50/50\u001b[0m \u001b[32m━━━━━━━━━━━━━━━━━━━━\u001b[0m\u001b[37m\u001b[0m \u001b[1m182s\u001b[0m 4s/step - accuracy: 0.5974 - loss: 0.6809 - val_accuracy: 0.6625 - val_loss: 0.6684\n",
            "Epoch 3/10\n",
            "\u001b[1m50/50\u001b[0m \u001b[32m━━━━━━━━━━━━━━━━━━━━\u001b[0m\u001b[37m\u001b[0m \u001b[1m195s\u001b[0m 4s/step - accuracy: 0.6411 - loss: 0.6536 - val_accuracy: 0.6450 - val_loss: 0.6513\n",
            "Epoch 4/10\n",
            "\u001b[1m50/50\u001b[0m \u001b[32m━━━━━━━━━━━━━━━━━━━━\u001b[0m\u001b[37m\u001b[0m \u001b[1m199s\u001b[0m 4s/step - accuracy: 0.6776 - loss: 0.6166 - val_accuracy: 0.6800 - val_loss: 0.6225\n",
            "Epoch 5/10\n",
            "\u001b[1m50/50\u001b[0m \u001b[32m━━━━━━━━━━━━━━━━━━━━\u001b[0m\u001b[37m\u001b[0m \u001b[1m201s\u001b[0m 4s/step - accuracy: 0.7400 - loss: 0.5685 - val_accuracy: 0.7000 - val_loss: 0.6082\n",
            "Epoch 6/10\n",
            "\u001b[1m50/50\u001b[0m \u001b[32m━━━━━━━━━━━━━━━━━━━━\u001b[0m\u001b[37m\u001b[0m \u001b[1m199s\u001b[0m 4s/step - accuracy: 0.7413 - loss: 0.5456 - val_accuracy: 0.7100 - val_loss: 0.6013\n",
            "Epoch 7/10\n",
            "\u001b[1m50/50\u001b[0m \u001b[32m━━━━━━━━━━━━━━━━━━━━\u001b[0m\u001b[37m\u001b[0m \u001b[1m198s\u001b[0m 4s/step - accuracy: 0.7436 - loss: 0.5492 - val_accuracy: 0.6950 - val_loss: 0.6093\n",
            "Epoch 8/10\n",
            "\u001b[1m50/50\u001b[0m \u001b[32m━━━━━━━━━━━━━━━━━━━━\u001b[0m\u001b[37m\u001b[0m \u001b[1m192s\u001b[0m 4s/step - accuracy: 0.7594 - loss: 0.5100 - val_accuracy: 0.6825 - val_loss: 0.5945\n",
            "Epoch 9/10\n",
            "\u001b[1m50/50\u001b[0m \u001b[32m━━━━━━━━━━━━━━━━━━━━\u001b[0m\u001b[37m\u001b[0m \u001b[1m215s\u001b[0m 4s/step - accuracy: 0.7756 - loss: 0.4932 - val_accuracy: 0.7025 - val_loss: 0.5894\n",
            "Epoch 10/10\n",
            "\u001b[1m50/50\u001b[0m \u001b[32m━━━━━━━━━━━━━━━━━━━━\u001b[0m\u001b[37m\u001b[0m \u001b[1m194s\u001b[0m 4s/step - accuracy: 0.7704 - loss: 0.4914 - val_accuracy: 0.7025 - val_loss: 0.6108\n",
            "\u001b[1m13/13\u001b[0m \u001b[32m━━━━━━━━━━━━━━━━━━━━\u001b[0m\u001b[37m\u001b[0m \u001b[1m12s\u001b[0m 946ms/step - accuracy: 0.7073 - loss: 0.6264\n",
            "Test Accuracy: 70.25%\n"
          ]
        },
        {
          "output_type": "display_data",
          "data": {
            "text/plain": [
              "<Figure size 1200x500 with 2 Axes>"
            ],
            "image/png": "[encoded data removed]"
          },
          "metadata": {}
        }
      ]
    },
    {
      "cell_type": "code",
      "source": [
        "model.save(\"/content/drive/MyDrive/model.h5\")  # Saves the trained model\n",
        "print(\"✅ Model saved successfully in Google Drive!\")\n"
      ],
      "metadata": {
        "colab": {
          "base_uri": "https://localhost:8080/"
        },
        "id": "8Lvs1YfcfmSW",
        "outputId": "da1e06ca-6035-492d-c172-12bd5c71caef"
      },
      "execution_count": null,
      "outputs": [
        {
          "output_type": "stream",
          "name": "stderr",
          "text": [
            "WARNING:absl:You are saving your model as an HDF5 file via `model.save()` or `keras.saving.save_model(model)`. This file format is considered legacy. We recommend using instead the native Keras format, e.g. `model.save('my_model.keras')` or `keras.saving.save_model(model, 'my_model.keras')`. \n"
          ]
        },
        {
          "output_type": "stream",
          "name": "stdout",
          "text": [
            "✅ Model saved successfully in Google Drive!\n"
          ]
        }
      ]
    },
    {
      "cell_type": "code",
      "source": [
        "import os\n",
        "import cv2\n",
        "import numpy as np\n",
        "from tensorflow.keras.models import load_model\n",
        "\n",
        "# ✅ Load Your Trained Model\n",
        "MODEL_PATH = \"/content/drive/MyDrive/model.h5\"  # Update this with your actual model path\n",
        "model = load_model(MODEL_PATH)\n",
        "print(\"✅ Model Loaded Successfully!\")\n",
        "\n",
        "# ✅ Constants\n",
        "FRAME_COUNT = 5  # Number of frames to extract per video\n",
        "IMG_SIZE = 224   # Input image size for CNN model\n",
        "\n",
        "def extract_frames(video_path, frame_count=FRAME_COUNT):\n",
        "    \"\"\" Extract frames from a video at evenly spaced intervals. \"\"\"\n",
        "    cap = cv2.VideoCapture(video_path)\n",
        "    frames = []\n",
        "    total_frames = int(cap.get(cv2.CAP_PROP_FRAME_COUNT))\n",
        "\n",
        "    for i in range(frame_count):\n",
        "        frame_id = int((i / frame_count) * total_frames)  # Select frames at equal intervals\n",
        "        cap.set(cv2.CAP_PROP_POS_FRAMES, frame_id)\n",
        "        ret, frame = cap.read()\n",
        "        if ret:\n",
        "            frame = cv2.resize(frame, (IMG_SIZE, IMG_SIZE))  # Resize to match model input\n",
        "            frame = cv2.cvtColor(frame, cv2.COLOR_BGR2RGB)   # Convert BGR to RGB\n",
        "            frames.append(frame)\n",
        "\n",
        "    cap.release()\n",
        "\n",
        "    if len(frames) < frame_count:\n",
        "        return None  # Return None if frames are insufficient\n",
        "\n",
        "    return np.array(frames) / 255.0  # Normalize frames\n",
        "\n",
        "def predict_video(video_path, model):\n",
        "    \"\"\" Predict whether a video is REAL or FAKE using the trained model. \"\"\"\n",
        "    frames = extract_frames(video_path)\n",
        "\n",
        "    if frames is None:\n",
        "        return \"⚠️ Prediction Failed: Not enough frames extracted\"\n",
        "\n",
        "    predictions = model.predict(frames)  # Predict on each frame\n",
        "    avg_prediction = np.mean(predictions, axis=0)  # Average predictions\n",
        "\n",
        "    final_class = np.argmax(avg_prediction)  # 0 = Real, 1 = Fake\n",
        "    confidence = max(avg_prediction) * 100  # Confidence score\n",
        "\n",
        "    return f\"🎯 Predicted: {'FAKE' if final_class == 1 else 'REAL'} (Confidence: {confidence:.2f}%)\"\n",
        "\n",
        "# ✅ Run Prediction on a Test Video\n",
        "video_path = \"//content/drive/MyDrive/ai_fake.mp4\"  # Update this with your test video path\n",
        "if os.path.exists(video_path):\n",
        "    result = predict_video(video_path, model)\n",
        "    print(result)\n",
        "else:\n",
        "    print(f\"⚠️ Error: Video file not found at {video_path}\")\n"
      ],
      "metadata": {
        "colab": {
          "base_uri": "https://localhost:8080/"
        },
        "id": "jKFrrUhLjYDa",
        "outputId": "1946c3bd-e07b-4cd9-bc03-1618701bbad6"
      },
      "execution_count": null,
      "outputs": [
        {
          "output_type": "stream",
          "name": "stderr",
          "text": [
            "WARNING:absl:Compiled the loaded model, but the compiled metrics have yet to be built. `model.compile_metrics` will be empty until you train or evaluate the model.\n"
          ]
        },
        {
          "output_type": "stream",
          "name": "stdout",
          "text": [
            "✅ Model Loaded Successfully!\n"
          ]
        },
        {
          "output_type": "stream",
          "name": "stderr",
          "text": [
            "WARNING:tensorflow:5 out of the last 5 calls to <function TensorFlowTrainer.make_predict_function.<locals>.one_step_on_data_distributed at 0x7a61f08a84a0> triggered tf.function retracing. Tracing is expensive and the excessive number of tracings could be due to (1) creating @tf.function repeatedly in a loop, (2) passing tensors with different shapes, (3) passing Python objects instead of tensors. For (1), please define your @tf.function outside of the loop. For (2), @tf.function has reduce_retracing=True option that can avoid unnecessary retracing. For (3), please refer to https://www.tensorflow.org/guide/function#controlling_retracing and https://www.tensorflow.org/api_docs/python/tf/function for  more details.\n"
          ]
        },
        {
          "output_type": "stream",
          "name": "stdout",
          "text": [
            "\u001b[1m1/1\u001b[0m \u001b[32m━━━━━━━━━━━━━━━━━━━━\u001b[0m\u001b[37m\u001b[0m \u001b[1m0s\u001b[0m 273ms/step\n",
            "🎯 Predicted: FAKE (Confidence: 54.43%)\n"
          ]
        }
      ]
    }
  ]
}